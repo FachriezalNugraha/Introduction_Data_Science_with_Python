{
 "cells": [
  {
   "cell_type": "raw",
   "metadata": {},
   "source": [
    "Python adalah bahasa pemrograman yang ditujukan untuk general-purpose programming dan termasuk dalam kategori high-level programming language.\n",
    "\n",
    "Sebagai general-purpose programming language, Python digunakan untuk berbagai macam permasalahan seperti: pengembangan aplikasi web ataupun mobile, data science, dll.\n",
    "\n",
    "Python masuk ke dalam kategori high-level programming language dikarenakan bahasa pemrograman Python yang mudah untuk dibaca dan dituliskan oleh manusia.\n",
    "\n",
    "Bahasa  pemrograman  Python  diciptakan  oleh  Guido  van Rossum dan pertama kali diperkenalkan pada tahun 1991 sebagai sebuah proyek open-source. Lisensi dari Python bersifat open-source dari Python atau dengan kata lain setiap orang dapat mengembangkan program komputer dengan menggunakan bahasa pemrograman Python baik untuk tujuan komersil/non-komersil.\n",
    "\n",
    "Python adalah bahasa yang ditujukan untuk general-purpose programming, jenis high-level programming language dan berlisensi open source"
   ]
  },
  {
   "cell_type": "raw",
   "metadata": {},
   "source": [
    "Library dalam python\n",
    "\n",
    "Numpy (numerical python) adalah library yang memudahkan dalam pendefinisian array baik 1D, 2D, 3D atau nD, dan juga memiliki fungsi-fungsi untuk aljabar linier.\n",
    "\n",
    "Scipy (Scientific Python) merupakan library yang ditujukan untuk keperluan komputasi saintifik seperti keperluan aljabar linier, integrasi dan diferensiasi numerik, transformasi Fourier, optimasi, interpolasi, statistik dan yang lainnya.\n",
    "\n",
    "Pandas adalah library untuk pengolahan data dalam bentuk tabular (seperti excel) yang merupakan de facto library bagi data scientist dalam mengolah data dari berbagai sumber seperti file CSV, TSV, Excel, SQL queries, Google BigQuery, SAS, Stata, SPSS, dsb.\n",
    "\n",
    "Matplotlib digunakan untuk visualisasi dari data ke dalam berbagai bentuk grafik 2D atau 3D, seperti line chart, bar chart, histogram, polar chart, error bar plot, dan jenis grafik lainnya.\n",
    "\n",
    "Scikit-learn adalah Scipy Toolkit yang ditujukan untuk menghasilkan model predictive dengan menggunakan machine learning.\n",
    "Seaborn merupakan library yang dibuat dari matplotlib yang ditujukan oleh visualisasi grafik statistik dengan warna yang menawan, terintegrasi dengan baik dengan pandas."
   ]
  },
  {
   "cell_type": "raw",
   "metadata": {},
   "source": [
    "Struktur Bahasa Python - Part 2\n",
    "Aku menyimak tampilan layar laptop, berusaha memahami catatan Senja untuk struktur bahasa Python yang dapat aku gunakan:\n",
    "\n",
    "No.\n",
    "\n",
    "Struktur\n",
    "\n",
    "Keterangan\n",
    "\n",
    "1\n",
    "\n",
    "Statements\n",
    "\n",
    "instruksi yang diberikan secara baris per baris untuk dijalankan oleh program\n",
    "\n",
    "2\n",
    "\n",
    "Variables\n",
    "\n",
    "pengindentifikasian yang  digunakan untuk menampung sebuah data atau informasi\n",
    "\n",
    "3\n",
    "\n",
    "Literals\n",
    "\n",
    "data atau informasi yang digunakan untuk mengisi suatu variabel\n",
    "\n",
    "4\n",
    "\n",
    "Operators\n",
    "\n",
    "simbol-simbol yang digunakan untuk mengubah nilai dari satu variabel dengan melibatkan satu atau lebih variabel dan literal.\n",
    "\n",
    "5\n",
    "\n",
    "Reserved Words\n",
    "\n",
    "kumpulan kata-kata yang memiliki makna khusus dalam bahasa pemrograman Python dan tidak dapat digunakan untuk variables dan literals\n",
    "\n",
    "6\n",
    "\n",
    "Whitespace\n",
    "\n",
    "pada bahasa Python, spasi dan tab memiliki makna khusus untuk menandai serangkaian blok dalam kode Python\n",
    "\n",
    "7\n",
    "\n",
    "Comments\n",
    "\n",
    "merupakan sekumpulan teks yang dituliskan di dalam sebuah program yang tidak akan mempengaruhi hasil dari sebuah program"
   ]
  },
  {
   "cell_type": "raw",
   "metadata": {},
   "source": [
    "Python “Hello World” & Statement"
   ]
  },
  {
   "cell_type": "code",
   "execution_count": 1,
   "metadata": {},
   "outputs": [
    {
     "name": "stdout",
     "output_type": "stream",
     "text": [
      "Hello World.\n",
      "Saya Aksara, baru belajar Python.\n"
     ]
    }
   ],
   "source": [
    "print(\"Hello World.\")\n",
    "print(\"Saya Aksara, baru belajar Python.\")"
   ]
  },
  {
   "cell_type": "raw",
   "metadata": {},
   "source": [
    "Variables di Python\n",
    "Sekarang kita akan membahas teknik penulisan variables pada Python dengan mengikuti contoh ini yang sudah disediakan Senja"
   ]
  },
  {
   "cell_type": "code",
   "execution_count": 2,
   "metadata": {},
   "outputs": [],
   "source": [
    "bil1 = 10\n",
    "Bil_2 = 20\n",
    "Frasa = \"Halo Dunia\"\n",
    "bil1, Bil_2 = 10, 20\n",
    "salam = \"Selamat Pagi\"; Penutup = \"Salam Sejahtera\""
   ]
  },
  {
   "cell_type": "raw",
   "metadata": {},
   "source": [
    "Comments di Python\n",
    "Comments adalah sekumpulan teks yang dituliskan di dalam sebuah program yang tidak akan mempengaruhi hasil dari sebuah program."
   ]
  },
  {
   "cell_type": "code",
   "execution_count": 3,
   "metadata": {},
   "outputs": [
    {
     "name": "stdout",
     "output_type": "stream",
     "text": [
      "jadi # digunakan untuk membuat comment pada Python\n"
     ]
    }
   ],
   "source": [
    "# perintah pada baris ini tidak mempengaruhi program\n",
    "'''\n",
    "perintah ini tidak akan dieksekusi oleh Python\n",
    "dan perintah ini juga tidak akan dieksekusi\n",
    "perintah ini juga tidak akan dieksekusi\n",
    "'''\n",
    "print(\"jadi # digunakan untuk membuat comment pada Python\")"
   ]
  },
  {
   "cell_type": "code",
   "execution_count": null,
   "metadata": {},
   "outputs": [],
   "source": []
  }
 ],
 "metadata": {
  "kernelspec": {
   "display_name": "Python 3",
   "language": "python",
   "name": "python3"
  },
  "language_info": {
   "codemirror_mode": {
    "name": "ipython",
    "version": 3
   },
   "file_extension": ".py",
   "mimetype": "text/x-python",
   "name": "python",
   "nbconvert_exporter": "python",
   "pygments_lexer": "ipython3",
   "version": "3.8.2"
  }
 },
 "nbformat": 4,
 "nbformat_minor": 4
}
